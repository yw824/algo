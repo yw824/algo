{
 "cells": [
  {
   "cell_type": "markdown",
   "metadata": {
    "collapsed": false,
    "pycharm": {
     "name": "#%% md\n"
    }
   },
   "source": [
    "## 위상 정렬  \n",
    "  \n",
    "https://velog.io/@kimdukbae/%EC%9C%84%EC%83%81-%EC%A0%95%EB%A0%AC-Topological-Sorting  \n",
    "https://freedeveloper.tistory.com/278"
   ]
  },
  {
   "cell_type": "markdown",
   "metadata": {},
   "source": [
    "정렬 알고리즘의 일종으로,  \n",
    "순서가 정해져 있는 일련의 작업을 차례대로 수행해야 할 때 사용할 수 있는 알고리즘\n",
    "\n",
    "조금 더 이론적인 설명:  \n",
    "사이클이 없는 방향 그래프의 모든 노드를 '방향성에 거스르지 않도록 순서대로 나열하는 것'을 의미"
   ]
  },
  {
   "cell_type": "markdown",
   "metadata": {},
   "source": [
    "조건 : 위상 정렬을 수행할 수 있는 그래프는 ***사이클이 없는 방향 그래프(DAG)*** 이여야 한다. "
   ]
  },
  {
   "cell_type": "markdown",
   "metadata": {
    "vscode": {
     "languageId": "plaintext"
    }
   },
   "source": [
    "![nn](./img/02.png)"
   ]
  },
  {
   "cell_type": "markdown",
   "metadata": {},
   "source": [
    "### 진입차수와 진출차수\n",
    "위상 정렬 알고리즘을 살펴보기 위해서는 먼저 진입차수와 진출차수에 대한 개념을 알아야한다.  \n",
    "쉬운 개념이기에 아래 그림만으로도 충분히 이해할 수 있다고 생각한다.\n",
    "\n",
    "진입차수 (Indegree) : 특정한 노드로 들어오는 간선의 개수\n",
    "\n",
    "진출차수 (Outdegree) : 특정한 노드에서 나가는 간선의 개수"
   ]
  },
  {
   "cell_type": "markdown",
   "metadata": {},
   "source": [
    "![nn](./img/03.png)"
   ]
  },
  {
   "cell_type": "markdown",
   "metadata": {},
   "source": [
    "### 동작 과정 "
   ]
  },
  {
   "cell_type": "markdown",
   "metadata": {},
   "source": [
    "queue를 이용하여 구현  \n",
    "다음과 같다.  \n",
    "> 1. 진입 차수가 0인 노드를 queue에 넣는다. \n",
    "> 2. queue가 빌 때까지 다음의 과정을 반복 \n",
    "    > - queue에서 원소를 꺼내 해당 노드에서 나가는 간선을 그래프에서 제거 \n",
    "    > - 새롭게 진입 차수가 0이 된 노드를 queue에 삽입  \n",
    "\n",
    "즉, 각 노드가 큐에 들어온 순서가 위상 정렬을 수행한 결과 "
   ]
  },
  {
   "cell_type": "markdown",
   "metadata": {},
   "source": [
    "![nn](./img/04.png)"
   ]
  },
  {
   "cell_type": "markdown",
   "metadata": {},
   "source": [
    "0. 진입 차수가 0인 모든 노드를 queue에 삽입,  \n",
    "    현재 1번 노드의 진입 차수만 0이므로 queue에 1번 노드만 삽입 "
   ]
  },
  {
   "cell_type": "markdown",
   "metadata": {},
   "source": [
    "![nn](./img/05.png)"
   ]
  },
  {
   "cell_type": "markdown",
   "metadata": {},
   "source": [
    "1. queue에 있는 1번 노드를 꺼낸다. 이후 1번 노드에 연결된 간선 제거  \n",
    "    그러면 2번 노드와 5번 노드의 진입 차수가 0이 되고, 2번 노드와 5번 노드의 진입 차수가 0이므로 queue에 삽입"
   ]
  },
  {
   "cell_type": "markdown",
   "metadata": {},
   "source": [
    "![nn](./img/06.png)"
   ]
  },
  {
   "cell_type": "markdown",
   "metadata": {},
   "source": [
    "3. 2번 노드를 꺼낸다. 2번 노드와 연결된 간선 제거  \n",
    "    그러면 3번 노드가 진입 차수가 0번이 되므로 3번 노드를 queue에 추가   \n",
    "      \n",
    "    반면에 6번 노드는 2번 노드의 진입 차수를 제거하더라도 6번 노드에서 아직 진입 차수가 1(5번)이므로    \n",
    "    queue에 삽입 불가능 "
   ]
  },
  {
   "cell_type": "markdown",
   "metadata": {},
   "source": [
    "![nn](./img/07.png)"
   ]
  },
  {
   "cell_type": "markdown",
   "metadata": {},
   "source": [
    "4. queue에 있는 5번 노드를 꺼낸다. 그리고 5번의 간선을 모두 제거한다.  \n",
    "    간선이 모두 제거된 6번 노드를 queue에 삽입 "
   ]
  },
  {
   "cell_type": "markdown",
   "metadata": {},
   "source": [
    "![nn](./img/08.png)"
   ]
  },
  {
   "cell_type": "markdown",
   "metadata": {},
   "source": [
    "5. 3번 노드를 꺼낸다. 3번 노드와 연결되어 있는 간선들을 제거한다.  \n",
    "    이번 단계에서는 새롭게 진입차수가 0이 되는 노드가 없으므로 넘어간다."
   ]
  },
  {
   "cell_type": "markdown",
   "metadata": {},
   "source": [
    "![nn](./img/09.png)"
   ]
  },
  {
   "cell_type": "markdown",
   "metadata": {},
   "source": [
    "6. 6번 노드를 꺼낸다.  \n",
    "    연결된 노드를 모두 제거하고, 진입차수가 0이 된 4번 노드를 queue에 추가한다. "
   ]
  },
  {
   "cell_type": "markdown",
   "metadata": {},
   "source": [
    "![nn](./img/10.png)"
   ]
  },
  {
   "cell_type": "markdown",
   "metadata": {},
   "source": [
    "7. 4번 노드를 꺼낸다. 진출 차수의 간선을 모두 제거한다.  \n",
    "    새롭게 진입차수가 0이 되는 7번 노드를 queue에 추가한다. \n",
    "    "
   ]
  },
  {
   "cell_type": "markdown",
   "metadata": {},
   "source": [
    "![nn](./img/11.png)"
   ]
  },
  {
   "cell_type": "markdown",
   "metadata": {},
   "source": [
    "8. 7번 노드를 꺼내면, 더 이상 더할 노드가 없어, 큐에 아무것도 들어있지 않아  \n",
    "    정렬 과정이 종료된다. "
   ]
  },
  {
   "cell_type": "markdown",
   "metadata": {},
   "source": [
    "### 위상 정렬의 특징 \n"
   ]
  },
  {
   "cell_type": "markdown",
   "metadata": {},
   "source": [
    "- 위상 정렬의 답은, 여러 가지가 될 수 있다. \n",
    "- 모든 원소를 방문하기 전에 queue가 빈다면, 사이클이 존재한다고 판단할 수 있다. \n",
    "    - 사이클에 포함된 원소 중에서 해당되는 어떠한 원소도 queue에 들어가지 못하게 되기 때문 \n",
    "- 보통 queue로 구현하나, stack을 이용한 dfs를 이용해 위상 정렬을 구현할 수도 있다. "
   ]
  },
  {
   "cell_type": "markdown",
   "metadata": {},
   "source": [
    "### Baekjoon 예제 : 2252 [줄 세우기]  \n",
    "https://www.acmicpc.net/problem/2252"
   ]
  },
  {
   "cell_type": "markdown",
   "metadata": {},
   "source": [
    "#### [문제]  \n",
    "N명의 학생들을 키 순서대로 줄을 세우려고 한다.  \n",
    "각 학생의 키를 직접 재서 정렬하면 간단하겠지만,  \n",
    "    마땅한 방법이 없어서 두 학생의 키를 비교하는 방법을 사용하기로 하였다.   \n",
    "그나마도 모든 학생들을 다 비교해 본 것이 아니고, 일부 학생들의 키만을 비교해 보았다.  \n",
    "  \n",
    "일부 학생들의 키를 비교한 결과가 주어졌을 때, 줄을 세우는 프로그램을 작성하시오."
   ]
  },
  {
   "cell_type": "markdown",
   "metadata": {},
   "source": [
    "#### [입력]  \n",
    "첫째 줄에 N(1 ≤ N ≤ 32,000), M(1 ≤ M ≤ 100,000)이 주어진다.    \n",
    "M은 키를 비교한 회수이다.   \n",
    "다음 M개의 줄에는 키를 비교한 두 학생의 번호 A, B가 주어진다.   \n",
    "이는 학생 A가 학생 B의 앞에 서야 한다는 의미이다.\n",
    "\n",
    "학생들의 번호는 1번부터 N번이다."
   ]
  },
  {
   "cell_type": "markdown",
   "metadata": {},
   "source": [
    "#### [출력]\n",
    "  \n",
    "첫째 줄에 학생들을 앞에서부터 줄을 세운 결과를 출력한다.  \n",
    "답이 여러 가지인 경우에는 아무거나 출력한다."
   ]
  },
  {
   "cell_type": "code",
   "execution_count": 27,
   "metadata": {},
   "outputs": [],
   "source": [
    "import sys \n",
    "from collections import deque \n",
    "\n",
    "w: list  # 방문한 노드 \n",
    "queue: deque # 큐 \n",
    "n: int # 학생 수\n",
    "m: int # 비교 횟수 # a b : a가 b보다 앞 \n",
    "\n",
    "def init():\n",
    "    global w, queue, n, m\n",
    "    # n, m = map(int, sys.stdin.readline().split())\n",
    "    n, m = map(int, input().split())\n",
    "    \n",
    "    w = [[0, list()] for _ in range(n + 1)] # 진입 차수 개수, 진출 차수 리스트\n",
    "    queue = deque()\n",
    "    # print(w) # [[0, []], [0, []], [0, []], [0, []]]\n",
    "    \n",
    "    for _ in range(m):\n",
    "        # a, b = map(int, sys.stdin.readline().split())\n",
    "        a, b = map(int, input().split())\n",
    "        w[a][1].append(b)\n",
    "        w[b][0] += 1\n",
    "    \n",
    "    for i in range(1, len(w)):\n",
    "        if w[i][0] == 0:\n",
    "            queue.append(i)\n",
    "\n",
    "    # print(w)\n",
    "    # print(queue)\n",
    "    \n",
    "def topology_sort():\n",
    "    global w, queue\n",
    "    # print(\"==========topology sort===========\")\n",
    "    to: int # 다음 간선 리스트\n",
    "    while len(queue):\n",
    "        index = queue.popleft()\n",
    "        print(index, end=' ')\n",
    "        \n",
    "        # print(index, w[index][1])\n",
    "        if not len(w[index][1]): \n",
    "            continue\n",
    "        for elem in w[index][1]: # 진출 차수 리스트 \n",
    "            # print(elem)\n",
    "            w[elem][0] -= 1\n",
    "            if w[elem][0] == 0:\n",
    "                queue.append(elem)\n",
    "    print()\n",
    "    \n",
    "def main():\n",
    "    init()\n",
    "    topology_sort()"
   ]
  },
  {
   "cell_type": "code",
   "execution_count": 29,
   "metadata": {},
   "outputs": [
    {
     "name": "stdout",
     "output_type": "stream",
     "text": [
      "3 4 1 2 \n"
     ]
    }
   ],
   "source": [
    "main()"
   ]
  }
 ],
 "metadata": {
  "kernelspec": {
   "display_name": "Python 3",
   "language": "python",
   "name": "python3"
  },
  "language_info": {
   "codemirror_mode": {
    "name": "ipython",
    "version": 3
   },
   "file_extension": ".py",
   "mimetype": "text/x-python",
   "name": "python",
   "nbconvert_exporter": "python",
   "pygments_lexer": "ipython3",
   "version": "3.9.19"
  }
 },
 "nbformat": 4,
 "nbformat_minor": 0
}
