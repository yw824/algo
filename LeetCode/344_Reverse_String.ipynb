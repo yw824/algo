{
 "cells": [
  {
   "cell_type": "markdown",
   "source": [
    "## 문자열 뒤집기\n",
    "문자열을 뒤집는 함수를 작성하라. 입력값은 문자 배열이며, 리턴 없이 리스트 내부를 직접 조작하라.\n",
    "https://leetcode.com/problems/reverse-string"
   ],
   "metadata": {
    "collapsed": false,
    "pycharm": {
     "name": "#%% md\n"
    }
   }
  },
  {
   "cell_type": "markdown",
   "source": [
    "You must do this by modifying the input array in-place with O(1) extra memory."
   ],
   "metadata": {
    "collapsed": false,
    "pycharm": {
     "name": "#%% md\n"
    }
   }
  },
  {
   "cell_type": "code",
   "execution_count": 1,
   "outputs": [],
   "source": [
    "# Base Code\n",
    "class Solution(object):\n",
    "    def reverseString(self, s):\n",
    "        \"\"\"\n",
    "        :type s: List[str]\n",
    "        :rtype: None Do not return anything, modify s in-place instead.\n",
    "        \"\"\""
   ],
   "metadata": {
    "collapsed": false,
    "pycharm": {
     "name": "#%%\n"
    }
   }
  },
  {
   "cell_type": "code",
   "execution_count": 10,
   "outputs": [
    {
     "name": "stdout",
     "output_type": "stream",
     "text": [
      "['o', 'l', 'l', 'e', 'h']\n",
      "['h', 'a', 'n', 'n', 'a', 'H']\n"
     ]
    }
   ],
   "source": [
    "# 테스트 코드\n",
    "sol = Solution()\n",
    "\n",
    "s = [\"h\",\"e\",\"l\",\"l\",\"o\"]\n",
    "print(sol.reverseString(s)) # [\"o\",\"l\",\"l\",\"e\",\"h\"]\n",
    "\n",
    "s = [\"H\",\"a\",\"n\",\"n\",\"a\",\"h\"]\n",
    "print(sol.reverseString(s)) # [\"h\",\"a\",\"n\",\"n\",\"a\",\"H\"]"
   ],
   "metadata": {
    "collapsed": false,
    "pycharm": {
     "name": "#%%\n"
    }
   }
  },
  {
   "cell_type": "markdown",
   "source": [
    "### 내 구현 코드"
   ],
   "metadata": {
    "collapsed": false,
    "pycharm": {
     "name": "#%% md\n"
    }
   }
  },
  {
   "cell_type": "code",
   "execution_count": 3,
   "outputs": [],
   "source": [
    "class Solution(object):\n",
    "    def reverseString(self, s):\n",
    "        \"\"\"\n",
    "        :type s: List[str]\n",
    "        :rtype: None Do not return anything, modify s in-place instead.\n",
    "        \"\"\"\n",
    "\n",
    "        return s[::-1]"
   ],
   "metadata": {
    "collapsed": false,
    "pycharm": {
     "name": "#%%\n"
    }
   }
  },
  {
   "cell_type": "markdown",
   "source": [
    "이전에 풀었던 코드가 있었다."
   ],
   "metadata": {
    "collapsed": false,
    "pycharm": {
     "name": "#%% md\n"
    }
   }
  },
  {
   "cell_type": "code",
   "execution_count": 9,
   "outputs": [],
   "source": [
    "class Solution(object):\n",
    "    def reverseString(self, s):\n",
    "        \"\"\"\n",
    "        :type s: List[str]\n",
    "        :rtype: None Do not return anything, modify s in-place instead.\n",
    "        \"\"\"\n",
    "\n",
    "        s[:] = s[::-1]\n",
    "        return s"
   ],
   "metadata": {
    "collapsed": false,
    "pycharm": {
     "name": "#%%\n"
    }
   }
  },
  {
   "cell_type": "markdown",
   "source": [
    "Code 1: s[:] = s[::-1]\n",
    "\n",
    "This code uses slice assignment to reverse the list in place. It creates a new reversed list s[::-1] and assigns it back to the original list s, but only replacing the contents, not the reference. This approach modifies the original list.\n",
    "\n",
    "Code 2: s = s[::-1]\n",
    "\n",
    "This code creates a new reversed list s[::-1] and assigns it to the variable s, effectively reassigning the reference. This approach creates a new list and assigns it to the variable, leaving the original list unchanged.\n",
    "\n",
    "Key differences:\n",
    "\n",
    "In-place modification: Code 1 modifies the original list, while Code 2 creates a new list and assigns it to the variable.\n",
    "Memory usage: Code 1 reuses the original list's memory, while Code 2 creates a new list, which may lead to increased memory usage.\n",
    "Improved Code\n",
    "\n",
    "If you want to reverse the list in place, use Code 1:"
   ],
   "metadata": {
    "collapsed": false,
    "pycharm": {
     "name": "#%% md\n"
    }
   }
  },
  {
   "cell_type": "markdown",
   "source": [
    "#### 리트코드에서의 해설"
   ],
   "metadata": {
    "collapsed": false,
    "pycharm": {
     "name": "#%% md\n"
    }
   }
  },
  {
   "cell_type": "markdown",
   "source": [
    "내가 풀었던 `s = s[::-1]` 이라는 코드는, 리트코드에서 오류가 발생한다고 한다.\n",
    "공간 복잡도를 O(1)로 제한하다 보니 변수 할당을 처리하는 데 다소 제약이 있다고 한다.\n",
    "그래서\n",
    "s[:] = s[::-1] 이라는 트릭을 사용해야 한다고 한다.\n",
    "\n",
    "플랫폼에 대한 특징, 충분한 이해가 필요하다고 한다."
   ],
   "metadata": {
    "collapsed": false,
    "pycharm": {
     "name": "#%% md\n"
    }
   }
  }
 ],
 "metadata": {
  "kernelspec": {
   "display_name": "Python 3",
   "language": "python",
   "name": "python3"
  },
  "language_info": {
   "codemirror_mode": {
    "name": "ipython",
    "version": 2
   },
   "file_extension": ".py",
   "mimetype": "text/x-python",
   "name": "python",
   "nbconvert_exporter": "python",
   "pygments_lexer": "ipython2",
   "version": "2.7.6"
  }
 },
 "nbformat": 4,
 "nbformat_minor": 0
}