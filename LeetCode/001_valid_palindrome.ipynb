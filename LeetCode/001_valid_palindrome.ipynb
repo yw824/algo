{
 "cells": [
  {
   "cell_type": "markdown",
   "metadata": {
    "collapsed": false,
    "pycharm": {
     "name": "#%% md\n"
    }
   },
   "source": [
    "## 유효한 팰린드롬\n",
    "- https://leetcode.com/problems/valid-palindrome"
   ]
  },
  {
   "cell_type": "markdown",
   "metadata": {
    "collapsed": false,
    "pycharm": {
     "name": "#%% md\n"
    }
   },
   "source": [
    "주어진 문자열이 팰린드롬인지 확인하라. 대소문자를 구분하지 않으며, 영문자와 숫자만을 대상으로 한다."
   ]
  },
  {
   "cell_type": "markdown",
   "source": [
    "다음은 Base Code이다. "
   ],
   "metadata": {
    "collapsed": false,
    "pycharm": {
     "name": "#%% md\n"
    }
   }
  },
  {
   "cell_type": "code",
   "execution_count": null,
   "outputs": [],
   "source": [
    "# base code \n",
    "import re\n",
    "\n",
    "class Solution(object):\n",
    "    def isPalindrome(self, s):\n",
    "        # TODO\n",
    "        \n",
    "        return True"
   ],
   "metadata": {
    "collapsed": false,
    "pycharm": {
     "name": "#%%\n"
    }
   }
  },
  {
   "cell_type": "markdown",
   "source": [
    "### 다음은 테스트 코드이다. 구현한 후에 맨 위로 와서 테스트 코드를 구현하자. "
   ],
   "metadata": {
    "collapsed": false,
    "pycharm": {
     "name": "#%% md\n"
    }
   }
  },
  {
   "cell_type": "code",
   "execution_count": null,
   "outputs": [],
   "source": [
    "sol = Solution()\n",
    "print(sol.isPalindrome(\"A man, a plan, a canal: Panama\")) # True\n",
    "print(sol.isPalindrome(\"race a car\")) # False\n",
    "print(sol.isPalindrome(\" \")) # True"
   ],
   "metadata": {
    "collapsed": false,
    "pycharm": {
     "name": "#%%\n"
    }
   }
  },
  {
   "cell_type": "markdown",
   "source": [
    "### 다음은 내가 푼 코드이다."
   ],
   "metadata": {
    "collapsed": false,
    "pycharm": {
     "name": "#%% md\n"
    }
   }
  },
  {
   "cell_type": "code",
   "execution_count": null,
   "outputs": [],
   "source": [
    "import re\n",
    "\n",
    "class Solution(object):\n",
    "    def getChars(self, s):\n",
    "        s = s.lower()  # 대소문자 구분 X -> 모두 소문자로 변환하는 작업 \n",
    "        # 리스트로 반환 \n",
    "        # 문자인지, 숫자인지 확인 -> 확인 후 반환 / 아닌 문자들을 빼는 작업이 필요함 \n",
    "        return [char for char in s if (char.isalpha() or char.isdigit())]\n",
    "        \n",
    "    \n",
    "    def isPalindrome(self, s):\n",
    "        s = self.getChars(s)\n",
    "        print(s)\n",
    "        \n",
    "        # 테스트 케이스 중 \" \"가 있었음 - 빈 문자열은 True\n",
    "        if len(s) <= 0:\n",
    "            return True\n",
    "        \n",
    "        for i in range(int(len(s) / 2 + 1)):\n",
    "            if s[i] != s[len(s) - 1 - i]:\n",
    "                return False\n",
    "        return True"
   ],
   "metadata": {
    "collapsed": false,
    "pycharm": {
     "name": "#%%\n"
    }
   }
  },
  {
   "cell_type": "markdown",
   "source": [
    "문자열인지 숫자인지 판별하는 파이썬 str 내부 함수 :  \n",
    "https://cotak.tistory.com/137"
   ],
   "metadata": {
    "collapsed": false,
    "pycharm": {
     "name": "#%% md\n"
    }
   }
  },
  {
   "cell_type": "markdown",
   "source": [
    "### 다음은 교재에서 제시한 해답이다."
   ],
   "metadata": {
    "collapsed": false,
    "pycharm": {
     "name": "#%% md\n"
    }
   }
  },
  {
   "cell_type": "markdown",
   "source": [
    "#### 풀이 1 : 리스트로 변환 "
   ],
   "metadata": {
    "collapsed": false,
    "pycharm": {
     "name": "#%% md\n"
    }
   }
  },
  {
   "cell_type": "markdown",
   "source": [
    "전처리 부분 : "
   ],
   "metadata": {
    "collapsed": false,
    "pycharm": {
     "name": "#%% md\n"
    }
   }
  },
  {
   "cell_type": "code",
   "execution_count": null,
   "outputs": [],
   "source": [
    "import re\n",
    "\n",
    "class Solution(object):\n",
    "    def isPalindrome(self, s):\n",
    "        # 전처리 : 영문자, 숫자만 남기기 \n",
    "        strs = []\n",
    "        for char in s:\n",
    "            if char.isalnum():\n",
    "                strs.append(char.lower())\n",
    "        \n",
    "        # 다음과 같이 소문자로 변환 \n",
    "        while len(strs) > 1:\n",
    "            if strs.pop(0) != strs.pop():\n",
    "                return False\n",
    "            \n",
    "        return True"
   ],
   "metadata": {
    "collapsed": false,
    "pycharm": {
     "name": "#%%\n"
    }
   }
  },
  {
   "cell_type": "markdown",
   "source": [
    "### 풀이 2 : Deque 자료형을 이용한 최적화 "
   ],
   "metadata": {
    "collapsed": false,
    "pycharm": {
     "name": "#%% md\n"
    }
   }
  },
  {
   "cell_type": "code",
   "execution_count": null,
   "outputs": [],
   "source": [
    "# base code \n",
    "import re\n",
    "from collections import deque\n",
    "\n",
    "class Solution(object):\n",
    "    def isPalindrome(self, s):\n",
    "        chars = deque()\n",
    "        \n",
    "        for char in s:\n",
    "            chars.append(char.lower())\n",
    "        \n",
    "        while len(chars) > 1:\n",
    "            if chars.popleft() != chars.pop():\n",
    "                return False\n",
    "            \n",
    "        return True"
   ],
   "metadata": {
    "collapsed": false,
    "pycharm": {
     "name": "#%%\n"
    }
   }
  },
  {
   "cell_type": "code",
   "execution_count": null,
   "outputs": [],
   "source": [
    "### 풀이 3 : 슬라이싱 사용"
   ],
   "metadata": {
    "collapsed": false,
    "pycharm": {
     "name": "#%%\n"
    }
   }
  },
  {
   "cell_type": "code",
   "execution_count": null,
   "outputs": [],
   "source": [
    "# base code \n",
    "import re\n",
    "\n",
    "class Solution(object):\n",
    "    def isPalindrome(self, s):\n",
    "        s = s.lower()\n",
    "        # 정규식으로 불필요한 문자 필터링 \n",
    "        s = re.sub('[^a-z0-9]', '', s)\n",
    "        \n",
    "        return s == s[::-1]"
   ],
   "metadata": {
    "collapsed": false,
    "pycharm": {
     "name": "#%%\n"
    }
   }
  },
  {
   "cell_type": "markdown",
   "source": [
    "### 테스트 코드"
   ],
   "metadata": {
    "collapsed": false,
    "pycharm": {
     "name": "#%% md\n"
    }
   }
  },
  {
   "cell_type": "markdown",
   "source": [
    "\"A man, a plan, a canal: Panama\" -> true  \n",
    "\"race a car\" -> false"
   ],
   "metadata": {
    "collapsed": false,
    "pycharm": {
     "name": "#%% md\n"
    }
   }
  },
  {
   "cell_type": "markdown",
   "source": [
    "### 최상위 성능 코드 "
   ],
   "metadata": {
    "collapsed": false,
    "pycharm": {
     "name": "#%% md\n"
    }
   }
  },
  {
   "cell_type": "code",
   "execution_count": null,
   "outputs": [],
   "source": [
    "import re\n",
    "class Solution(object):\n",
    "    def isPalindrome(self, s):\n",
    "        \"\"\"\n",
    "        :type s: str\n",
    "        :rtype: bool\n",
    "        \"\"\"\n",
    "        s= re.sub(r'[^a-zA-Z0-9]', '', s)\n",
    "        s=s.lower()\n",
    "        print(s)\n",
    "        rev_s=s[::-1]\n",
    "        \n",
    "        if s==rev_s:\n",
    "            return True\n",
    "        else:\n",
    "            return False"
   ],
   "metadata": {
    "collapsed": false,
    "pycharm": {
     "name": "#%%\n"
    }
   }
  },
  {
   "cell_type": "markdown",
   "metadata": {},
   "source": [
    "#### 풀이 1 : 리스트로 변환 "
   ]
  },
  {
   "cell_type": "markdown",
   "metadata": {},
   "source": [
    "전처리 부분 : "
   ]
  },
  {
   "cell_type": "code",
   "execution_count": 34,
   "metadata": {},
   "outputs": [],
   "source": [
    "import re\n",
    "\n",
    "class Solution(object):\n",
    "    def isPalindrome(self, s):\n",
    "        # 전처리 : 영문자, 숫자만 남기기 \n",
    "        strs = []\n",
    "        for char in s:\n",
    "            if char.isalnum():\n",
    "                strs.append(char.lower())\n",
    "        \n",
    "        # 다음과 같이 소문자로 변환 \n",
    "        while len(strs) > 1:\n",
    "            if strs.pop(0) != strs.pop():\n",
    "                return False\n",
    "            \n",
    "        return True"
   ]
  },
  {
   "cell_type": "markdown",
   "metadata": {},
   "source": [
    "### 풀이 2 : Deque 자료형을 이용한 최적화 "
   ]
  },
  {
   "cell_type": "code",
   "execution_count": 5,
   "metadata": {},
   "outputs": [],
   "source": [
    "# base code \n",
    "import re\n",
    "from collections import deque\n",
    "\n",
    "class Solution(object):\n",
    "    def isPalindrome(self, s):\n",
    "        chars = deque()\n",
    "        \n",
    "        for char in s:\n",
    "            chars.append(char.lower())\n",
    "        \n",
    "        while len(chars) > 1:\n",
    "            if chars.popleft() != chars.pop():\n",
    "                return False\n",
    "            \n",
    "        return True"
   ]
  },
  {
   "cell_type": "markdown",
   "metadata": {
    "collapsed": false,
    "pycharm": {
     "name": "#%%\n"
    }
   },
   "source": [
    "### 풀이 3 : 슬라이싱 사용"
   ]
  },
  {
   "cell_type": "code",
   "execution_count": 7,
   "metadata": {
    "collapsed": false,
    "pycharm": {
     "name": "#%%\n"
    }
   },
   "outputs": [],
   "source": [
    "# base code \n",
    "import re\n",
    "\n",
    "class Solution(object):\n",
    "    def isPalindrome(self, s):\n",
    "        s = s.lower()\n",
    "        # 정규식으로 불필요한 문자 필터링 \n",
    "        s = re.sub('[^a-z0-9]', '', s)\n",
    "        \n",
    "        return s == s[::-1]"
   ]
  },
  {
   "cell_type": "markdown",
   "metadata": {
    "collapsed": false,
    "pycharm": {
     "name": "#%% md\n"
    }
   },
   "source": [
    "### 테스트 코드"
   ]
  },
  {
   "cell_type": "markdown",
   "metadata": {
    "collapsed": false,
    "pycharm": {
     "name": "#%% md\n"
    }
   },
   "source": [
    "\"A man, a plan, a canal: Panama\" -> true  \n",
    "\"race a car\" -> false"
   ]
  },
  {
   "cell_type": "markdown",
   "metadata": {},
   "source": [
    "### 최상위 성능 코드 "
   ]
  },
  {
   "cell_type": "code",
   "execution_count": 31,
   "metadata": {},
   "outputs": [],
   "source": [
    "import re\n",
    "class Solution(object):\n",
    "    def isPalindrome(self, s):\n",
    "        \"\"\"\n",
    "        :type s: str\n",
    "        :rtype: bool\n",
    "        \"\"\"\n",
    "        s= re.sub(r'[^a-zA-Z0-9]', '', s)\n",
    "        s=s.lower()\n",
    "        print(s)\n",
    "        rev_s=s[::-1]\n",
    "        \n",
    "        if s==rev_s:\n",
    "            return True\n",
    "        else:\n",
    "            return False"
   ]
  }
 ],
 "metadata": {
  "kernelspec": {
   "display_name": "keras-env",
   "language": "python",
   "name": "python3"
  },
  "language_info": {
   "codemirror_mode": {
    "name": "ipython",
    "version": 3
   },
   "file_extension": ".py",
   "mimetype": "text/x-python",
   "name": "python",
   "nbconvert_exporter": "python",
   "pygments_lexer": "ipython3",
   "version": "3.9.19"
  }
 },
 "nbformat": 4,
 "nbformat_minor": 0
}